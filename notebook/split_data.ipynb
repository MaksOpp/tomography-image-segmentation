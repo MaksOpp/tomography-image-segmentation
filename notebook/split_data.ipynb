{
 "cells": [
  {
   "cell_type": "code",
   "execution_count": 95,
   "metadata": {},
   "outputs": [],
   "source": [
    "import glob\n",
    "import os\n",
    "import math\n",
    "import shutil\n",
    "\n",
    "from pathlib import Path\n",
    "\n",
    "INPUT_FILES_PATH = 'merged/'\n",
    "OUTPUT_FILES_PATH = 'final_data/'"
   ]
  },
  {
   "cell_type": "code",
   "execution_count": 91,
   "metadata": {},
   "outputs": [],
   "source": [
    "def train_val_test_split(subsets_proportion_percentage):\n",
    "    try: \n",
    "        if (sum(subsets_proportion_percentage) != 100):\n",
    "            raise Exception('The sum of the percentages of the subsets does not equal 100%')\n",
    "        if (len(subsets_proportion_percentage) != 3):\n",
    "            raise Exception('Invalid proportions (remember about 3 values - train, validation and test percentage values)')\n",
    "            \n",
    "        files = list(set([Path(x).stem.split('i')[0] for x in glob.glob(INPUT_FILES_PATH + 'images/*')]))   \n",
    "        length_to_split = [x / 100 * len(files) for x in subsets_proportion_percentage]\n",
    "        val_frac, val_whole = math.modf(length_to_split[1])\n",
    "        test_frac, test_whole = math.modf(length_to_split[2])\n",
    "        train_count, val_count, test_count = [int(math.ceil(length_to_split[0] + val_frac + test_frac)), int(val_whole), int(test_whole)]\n",
    "        \n",
    "        random.seed(21)\n",
    "        random.shuffle(files)\n",
    "        \n",
    "        return files[:train_count], files[train_count:train_count+val_count], files[train_count+val_count:]\n",
    "    except Exception as error:\n",
    "        print('Caught this error: ' + repr(error))  "
   ]
  },
  {
   "cell_type": "code",
   "execution_count": 92,
   "metadata": {},
   "outputs": [
    {
     "name": "stdout",
     "output_type": "stream",
     "text": [
      "['p86', 'p117', 'p76', 'p51', 'p65', 'p48', 'p70', 'p46', 'p13', 'p95', 'p111', 'p23', 'p63', 'p11', 'p41', 'p123', 'p107', 'p38', 'p109', 'p128', 'p103', 'p81', 'p28', 'p77', 'p55', 'p40', 'p120', 'p21', 'p119', 'p130', 'p83', 'p101', 'p127', 'p71', 'p56', 'p18', 'p78', 'p110', 'p69', 'p7', 'p108', 'p91', 'p74', 'p0', 'p88', 'p39', 'p99', 'p22', 'p67', 'p33', 'p87', 'p54', 'p34', 'p30', 'p20', 'p62', 'p24', 'p96', 'p124', 'p104', 'p1', 'p115', 'p73', 'p27', 'p47', 'p16', 'p126', 'p9', 'p52', 'p32', 'p66', 'p10', 'p17', 'p50', 'p125', 'p89', 'p2', 'p37', 'p60', 'p44', 'p105', 'p6', 'p93', 'p35', 'p61', 'p29', 'p94', 'p121', 'p106', 'p25', 'p14', 'p42']\n",
      "['p8', 'p36', 'p100', 'p112', 'p102', 'p113', 'p58', 'p118', 'p4', 'p129', 'p12', 'p53', 'p31', 'p80', 'p122', 'p72', 'p98', 'p114', 'p90']\n",
      "['p5', 'p82', 'p75', 'p64', 'p49', 'p85', 'p15', 'p26', 'p68', 'p45', 'p116', 'p59', 'p92', 'p19', 'p84', 'p97', 'p79', 'p3', 'p57']\n"
     ]
    }
   ],
   "source": [
    "subsets_proportion_percentage = [70, 15, 15]\n",
    "train_files, val_files, test_files = train_val_test_split(subsets_proportion_percentage)\n",
    "\n",
    "print(train_files)\n",
    "print(val_files)\n",
    "print(test_files)"
   ]
  },
  {
   "cell_type": "code",
   "execution_count": 121,
   "metadata": {},
   "outputs": [],
   "source": [
    "def copy_files(files, images_path, labels_path):\n",
    "    os.makedirs(images_path)\n",
    "    os.makedirs(labels_path)\n",
    "\n",
    "    for file in files: \n",
    "        for file_path in glob.glob(INPUT_FILES_PATH + 'labels/' + file + 'i*'):\n",
    "            shutil.copy2(file_path, labels_path) \n",
    "        for file_path in glob.glob(INPUT_FILES_PATH + 'images/' + file + 'i*'):\n",
    "            shutil.copy2(file_path, images_path)   \n",
    "\n",
    "def fill_split_subfolders():\n",
    "    if os.path.exists(OUTPUT_FILES_PATH):\n",
    "        shutil.rmtree(OUTPUT_FILES_PATH)\n",
    "        \n",
    "    copy_files(train_files, OUTPUT_FILES_PATH+'train/images', OUTPUT_FILES_PATH+'train/labels')\n",
    "    copy_files(val_files, OUTPUT_FILES_PATH+'val/images', OUTPUT_FILES_PATH+'val/labels')\n",
    "    copy_files(test_files, OUTPUT_FILES_PATH+'test/images', OUTPUT_FILES_PATH+'test/labels')\n",
    "\n",
    "\n",
    "fill_split_subfolders()"
   ]
  },
  {
   "cell_type": "code",
   "execution_count": null,
   "metadata": {},
   "outputs": [],
   "source": []
  }
 ],
 "metadata": {
  "kernelspec": {
   "display_name": "Python 3",
   "language": "python",
   "name": "python3"
  },
  "language_info": {
   "codemirror_mode": {
    "name": "ipython",
    "version": 3
   },
   "file_extension": ".py",
   "mimetype": "text/x-python",
   "name": "python",
   "nbconvert_exporter": "python",
   "pygments_lexer": "ipython3",
   "version": "3.8.5"
  }
 },
 "nbformat": 4,
 "nbformat_minor": 4
}
